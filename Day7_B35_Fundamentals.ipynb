{
 "cells": [
  {
   "cell_type": "code",
   "execution_count": null,
   "metadata": {},
   "outputs": [],
   "source": [
    "introduction to for loops:"
   ]
  },
  {
   "cell_type": "code",
   "execution_count": 1,
   "metadata": {},
   "outputs": [],
   "source": [
    "students = ['chandramouli','subash','sourabh','naveen','gagan','sushanth']"
   ]
  },
  {
   "cell_type": "code",
   "execution_count": 2,
   "metadata": {},
   "outputs": [
    {
     "name": "stdout",
     "output_type": "stream",
     "text": [
      "['chandramouli', 'subash', 'sourabh', 'naveen', 'gagan', 'sushanth']\n"
     ]
    }
   ],
   "source": [
    "print(students)"
   ]
  },
  {
   "cell_type": "code",
   "execution_count": 3,
   "metadata": {},
   "outputs": [
    {
     "data": {
      "text/plain": [
       "list"
      ]
     },
     "execution_count": 3,
     "metadata": {},
     "output_type": "execute_result"
    }
   ],
   "source": [
    "type(students)"
   ]
  },
  {
   "cell_type": "code",
   "execution_count": null,
   "metadata": {},
   "outputs": [],
   "source": []
  },
  {
   "cell_type": "code",
   "execution_count": null,
   "metadata": {},
   "outputs": [],
   "source": [
    "#Req:  I want to appriciate the above students ....!"
   ]
  },
  {
   "cell_type": "code",
   "execution_count": 4,
   "metadata": {},
   "outputs": [
    {
     "name": "stdout",
     "output_type": "stream",
     "text": [
      "keep up the good work,Chandramouli\n"
     ]
    }
   ],
   "source": [
    "print(f\"keep up the good work,{students[0].title()}\")"
   ]
  },
  {
   "cell_type": "code",
   "execution_count": 5,
   "metadata": {},
   "outputs": [
    {
     "name": "stdout",
     "output_type": "stream",
     "text": [
      "keep up the good work,Subash\n"
     ]
    }
   ],
   "source": [
    "print(f\"keep up the good work,{students[1].title()}\")"
   ]
  },
  {
   "cell_type": "code",
   "execution_count": null,
   "metadata": {},
   "outputs": [],
   "source": [
    "#Req: print the appriciation message in a single go..!"
   ]
  },
  {
   "cell_type": "code",
   "execution_count": null,
   "metadata": {},
   "outputs": [],
   "source": [
    "#General syntax of for loop ..."
   ]
  },
  {
   "cell_type": "code",
   "execution_count": null,
   "metadata": {},
   "outputs": [],
   "source": [
    "for tempvar in mainvar:\n",
    "    print(tempvar) -----># this gap is called as Indentation"
   ]
  },
  {
   "cell_type": "code",
   "execution_count": 8,
   "metadata": {},
   "outputs": [
    {
     "name": "stdout",
     "output_type": "stream",
     "text": [
      "keep up the good work,Chandramouli\n",
      "keep up the good work,Subash\n",
      "keep up the good work,Sourabh\n",
      "keep up the good work,Naveen\n",
      "keep up the good work,Gagan\n",
      "keep up the good work,Sushanth\n"
     ]
    }
   ],
   "source": [
    "for x in students:\n",
    "    print(f\"keep up the good work,{x.title()}\")"
   ]
  },
  {
   "cell_type": "code",
   "execution_count": 9,
   "metadata": {},
   "outputs": [
    {
     "name": "stdout",
     "output_type": "stream",
     "text": [
      "keep up the good work,Chandramouli\n",
      "keep up the good work,Subash\n",
      "keep up the good work,Sourabh\n",
      "keep up the good work,Naveen\n",
      "keep up the good work,Gagan\n",
      "keep up the good work,Sushanth\n"
     ]
    }
   ],
   "source": [
    "for ironman in students:\n",
    "    print(f\"keep up the good work,{ironman.title()}\")"
   ]
  },
  {
   "cell_type": "code",
   "execution_count": null,
   "metadata": {},
   "outputs": [],
   "source": [
    "# enhancement of the code.....!"
   ]
  },
  {
   "cell_type": "code",
   "execution_count": 10,
   "metadata": {},
   "outputs": [
    {
     "name": "stdout",
     "output_type": "stream",
     "text": [
      "keep up the good work,Chandramouli\n",
      "Looking forwars to receive the github urls for the day,Chandramouli\n",
      "keep up the good work,Subash\n",
      "Looking forwars to receive the github urls for the day,Subash\n",
      "keep up the good work,Sourabh\n",
      "Looking forwars to receive the github urls for the day,Sourabh\n",
      "keep up the good work,Naveen\n",
      "Looking forwars to receive the github urls for the day,Naveen\n",
      "keep up the good work,Gagan\n",
      "Looking forwars to receive the github urls for the day,Gagan\n",
      "keep up the good work,Sushanth\n",
      "Looking forwars to receive the github urls for the day,Sushanth\n"
     ]
    }
   ],
   "source": [
    "for x in students:\n",
    "    print(f\"keep up the good work,{x.title()}\")\n",
    "    print(f\"Looking forwars to receive the github urls for the day,{x.title()}\")"
   ]
  },
  {
   "cell_type": "code",
   "execution_count": null,
   "metadata": {},
   "outputs": [],
   "source": [
    "# Improving the syntax:"
   ]
  },
  {
   "cell_type": "code",
   "execution_count": 11,
   "metadata": {
    "scrolled": true
   },
   "outputs": [
    {
     "name": "stdout",
     "output_type": "stream",
     "text": [
      "keep up the good work,Chandramouli\n",
      "Looking forwars to receive the github urls for the day,Chandramouli.\n",
      "\n",
      "keep up the good work,Subash\n",
      "Looking forwars to receive the github urls for the day,Subash.\n",
      "\n",
      "keep up the good work,Sourabh\n",
      "Looking forwars to receive the github urls for the day,Sourabh.\n",
      "\n",
      "keep up the good work,Naveen\n",
      "Looking forwars to receive the github urls for the day,Naveen.\n",
      "\n",
      "keep up the good work,Gagan\n",
      "Looking forwars to receive the github urls for the day,Gagan.\n",
      "\n",
      "keep up the good work,Sushanth\n",
      "Looking forwars to receive the github urls for the day,Sushanth.\n",
      "\n"
     ]
    }
   ],
   "source": [
    "for x in students:\n",
    "    print(f\"keep up the good work,{x.title()}\")\n",
    "    print(f\"Looking forwars to receive the github urls for the day,{x.title()}.\\n\")  # \\n is used for separate the lines"
   ]
  },
  {
   "cell_type": "code",
   "execution_count": 12,
   "metadata": {},
   "outputs": [
    {
     "ename": "IndentationError",
     "evalue": "expected an indented block (<ipython-input-12-706742a2806e>, line 2)",
     "output_type": "error",
     "traceback": [
      "\u001b[1;36m  File \u001b[1;32m\"<ipython-input-12-706742a2806e>\"\u001b[1;36m, line \u001b[1;32m2\u001b[0m\n\u001b[1;33m    print(f\"keep up the good work,{x.title()}\")\u001b[0m\n\u001b[1;37m    ^\u001b[0m\n\u001b[1;31mIndentationError\u001b[0m\u001b[1;31m:\u001b[0m expected an indented block\n"
     ]
    }
   ],
   "source": [
    "for x in students:\n",
    "print(f\"keep up the good work,{x.title()}\")\n",
    "print(f\"Looking forwars to receive the github urls for the day,{x.title()}.\\n\") "
   ]
  },
  {
   "cell_type": "code",
   "execution_count": 14,
   "metadata": {},
   "outputs": [
    {
     "name": "stdout",
     "output_type": "stream",
     "text": [
      "keep up the good work,Chandramouli\n",
      "Looking forwars to receive the github urls for the day,Chandramouli.\n",
      "\n",
      "keep up the good work,Subash\n",
      "Looking forwars to receive the github urls for the day,Subash.\n",
      "\n",
      "keep up the good work,Sourabh\n",
      "Looking forwars to receive the github urls for the day,Sourabh.\n",
      "\n",
      "keep up the good work,Naveen\n",
      "Looking forwars to receive the github urls for the day,Naveen.\n",
      "\n",
      "keep up the good work,Gagan\n",
      "Looking forwars to receive the github urls for the day,Gagan.\n",
      "\n",
      "keep up the good work,Sushanth\n",
      "Looking forwars to receive the github urls for the day,Sushanth.\n",
      "\n",
      "Thank you all for showing intrest in learning Python\n"
     ]
    }
   ],
   "source": [
    "for x in students:\n",
    "    print(f\"keep up the good work,{x.title()}\")  # writing in the loop\n",
    "    print(f\"Looking forwars to receive the github urls for the day,{x.title()}.\\n\")  # writing in the loop\n",
    "    \n",
    "print(\"Thank you all for showing intrest in learning Python\") # writing out of the loop....!\n"
   ]
  },
  {
   "cell_type": "code",
   "execution_count": null,
   "metadata": {},
   "outputs": [],
   "source": [
    "# Conditional Statements\n",
    "\n",
    "Case study : Building an Voting application ...!\n",
    "    \n",
    "    "
   ]
  },
  {
   "cell_type": "code",
   "execution_count": null,
   "metadata": {},
   "outputs": [],
   "source": []
  },
  {
   "cell_type": "code",
   "execution_count": null,
   "metadata": {},
   "outputs": [],
   "source": []
  },
  {
   "cell_type": "code",
   "execution_count": null,
   "metadata": {},
   "outputs": [],
   "source": []
  },
  {
   "cell_type": "code",
   "execution_count": null,
   "metadata": {},
   "outputs": [],
   "source": []
  },
  {
   "cell_type": "code",
   "execution_count": null,
   "metadata": {},
   "outputs": [],
   "source": []
  },
  {
   "cell_type": "code",
   "execution_count": null,
   "metadata": {},
   "outputs": [],
   "source": []
  },
  {
   "cell_type": "code",
   "execution_count": null,
   "metadata": {},
   "outputs": [],
   "source": []
  },
  {
   "cell_type": "code",
   "execution_count": null,
   "metadata": {},
   "outputs": [],
   "source": []
  }
 ],
 "metadata": {
  "kernelspec": {
   "display_name": "Python 3",
   "language": "python",
   "name": "python3"
  },
  "language_info": {
   "codemirror_mode": {
    "name": "ipython",
    "version": 3
   },
   "file_extension": ".py",
   "mimetype": "text/x-python",
   "name": "python",
   "nbconvert_exporter": "python",
   "pygments_lexer": "ipython3",
   "version": "3.8.5"
  }
 },
 "nbformat": 4,
 "nbformat_minor": 4
}
